{
 "cells": [
  {
   "cell_type": "markdown",
   "metadata": {},
   "source": [
    "![Egeria Logo](https://raw.githubusercontent.com/odpi/egeria/master/assets/img/ODPi_Egeria_Logo_color.png)\n",
    "\n",
    "### ODPi Egeria Hands-On Lab\n",
    "# Welcome to the Understanding Methods for Restricting Asset Access Lab"
   ]
  },
  {
   "cell_type": "markdown",
   "metadata": {},
   "source": [
    "## Introduction\n",
    "\n",
    "ODPi Egeria is an open source project that provides open standards and implementation libraries to connect tools, catalogs and platforms together so they can share information about data and technology (called metadata).\n",
    "\n",
    "In this hands-on lab you will get a chance to explore different methods for protecting a data file that is cataloged in Egeria metadata. \n",
    "\n",
    "This lab includes three methods to illustrate different degrees of data access:\n",
    "\n",
    "- Simple Access Control using an Access Control List (ACL)\n",
    "- Policy Based Access Control (BPC)\n",
    "- Context Sensitive Policy Based Access Control using Palisade (see below)\n",
    "\n",
    "The three methods highlight different ways to protect data. In all the examples in this notebook, the same user(Callie Quartile) is accessing the same file (employee records) containing a mixture of fields that we want the user to be allowed to read, and other fields that the user should not be allowed to read. Each of the above methods provides the access control that becomes increasingly more fine grained.\n",
    "\n",
    "- **ACL**: An Access Control List can be used to specify which users can access a file. Each user that permittied to access the file can read the whole file - there is no ability to redact or mask sensitive fields. Where finer grained access is required some organisations might be tempted to create separate copies of the file, with different subsets of content and differet access control permissions. This is not a recommended approach as it does not scale well; it duplicates some of the information and it becomes hard to keep track of which users have access to the different fields across the multiple copies. Furthermore, if a file is copied there is a risk that the copy does not have the appropriate file access controls applied to it. The use of an ACL is included in this hands-on lab to illustrate the problem that Callie would be able to see all the data in the file.\n",
    "\n",
    "The other two methods are based on a different approach in which the file is in a data lake and all access to the file is virtualized - allowing the introduction of an enforcement point between the user and the data. This allows the organisation to use policy based access control, based on the metadata representing the data file. This lab contains two policy-based options, described below:\n",
    "\n",
    "- **PBAC**, here policies bsaed on the metadata catalog are used to control access. A policy may be based on the characteristics of a specific Asset - such as its attributes, owner, etc - or in a slightly more sophisticated implementation, it may be based on the characteristics of a Glossary Term that is associated with the Asset. Either of these enables finer-grained control of access to a file and enables redaction and/or masking of certain fields. In the simple policy-based access control example, access permission can be based on an individual user's identity, so Callie may be allowed to see more/less than her co-workers. Policy-based access control is typically implemented using an Enforcement Point, such as Apache Ranger or Palisade. This hands-on lab includes an example of owner-based policy control implemented using Apache Ranger. It does not include glossary-based policies, but this is a logical extension of the owner-based policies that in practice requires that the organisation has developed a Glossary with Glossary Terms assigned to Assets.  \n",
    "   \n",
    "- **Context Sensitive PBAC**, is finer grained than plain PBAC and enables Callie's access to be dynamically determined based on the context of her work. As Callie switches between two different projects, her access to various data fields is dynamically modified to suit the current project. This hands-on lab demonstrates how to achieve this with Egeria and Palisade. Palisade is an open source framework for Scalable Data Access Policy Management and Enforcement (https://github.com/gchq/Palisade).\n"
   ]
  },
  {
   "cell_type": "markdown",
   "metadata": {},
   "source": [
    "## The scenario\n",
    "\n",
    "Callie Quartile is a data scientist at Coco Pharmaceuticals. She is responsible for analysing data for HR and the Clinical Trials team. \n",
    "\n",
    "Callie has been asked to provide analytics for two different projects:\n",
    "\n",
    "- a staff salary review that identifies any pay biases\n",
    "- identify staff elligble for a 5 year anniversay health screening project\n",
    "\n",
    "The data that Callie will access contains sensitive and personal data which she is not authorised to view, such as Salary, Data of Birth, Employee Name and so on.  In this notebook you will learn how to redact data elements, so Callie can only view the data that is essential to each project in a way which does not violate her level of data access.\n",
    "\n",
    "There are many situations where data needs to be redacted for different members of staff, based on their role, access, security clearance and so on.  In the first report it is inappropriate for Callie to view her colleagues salary details along with their names, employee number or other items which identify them.  If certain details are redacted then Callie may see the salaries with no knowledge of who the data pertains to.  In the analytics she provides for the Marketing team Callie will see a different set of data which is redacted based on a different set of rules based on context.\n",
    "\n",
    "\n",
    "![Callie Quartile](https://raw.githubusercontent.com/odpi/data-governance/master/docs/coco-pharmaceuticals/personas/callie-quartile.png)\n",
    "\n",
    "Callie's userId is `calliequartile`."
   ]
  },
  {
   "cell_type": "code",
   "execution_count": 4,
   "metadata": {},
   "outputs": [],
   "source": [
    "calliesUserId = \"calliequartile\""
   ]
  },
  {
   "cell_type": "markdown",
   "metadata": {},
   "source": [
    "The two projects (Salary Review and Health Screenin) use overlapping sets of fields from the same data file.  The specific fields she needs to access for each project are as follows:\n",
    "\n",
    "**Salary Bias Review Project Data** \n",
    "The data access for this project consists of employee records with a number of fields. In order to perform her analysis, Callie needs to be able to access Date of Birth, Hire Date, Salary, Bonus, Deprtment, Manager, Sex,  Nationality and Work Location. During this project Callie must NOT be allowed to see any fields that would enable her to identify the employee so we would need to redact employee ID, Name, Address, etc.  Wth these fields redacted Callie can perform her salaty analysis.\n",
    "\n",
    "**Health Screening Project Data**\n",
    "In this instance Callie will need to see fields that identify each employee, including employee ID, Name, Address, Hiring Date, Work Location but she should NOT be allowed to see any fields containing financial information, such as Salart, Bonus or Bank Details. \n",
    "\n",
    "Note that between the two projects, Callie needs to see different fields for each analysis - the project she is performing is referred to as the Context within which she is working. This context-based access control is possible using Palisade.\n",
    "\n",
    "Aside from the two projects above, there are two additional \"purposes\" that Callie may have for querying employee data:\n",
    "\n",
    "- One purpose is the **Default** - under which Callie should be able to see employeeID, name, department, manager, work location and the work contact numbers (but not personal contact numbers).\n",
    "\n",
    "- The other purpose is for when Callie needs to **Update** her own employee record - in this case Callie should be able to see all fields."
   ]
  },
  {
   "cell_type": "markdown",
   "metadata": {},
   "source": [
    "# Setting up\n",
    "\n",
    "Coco Pharmaceuticals make widespread use of ODPi Egeria for tracking and managing their data and related assets.\n",
    "Figure 1 below shows the metadata servers and the platforms that are hosting them.\n",
    "\n",
    "![Figure 1](../images/coco-pharmaceuticals-systems-omag-server-platforms.png)\n",
    "> **Figure 1:** Coco Pharmaceuticals' OMAG Server Platforms"
   ]
  },
  {
   "cell_type": "code",
   "execution_count": 3,
   "metadata": {},
   "outputs": [],
   "source": [
    "import os\n",
    "\n",
    "corePlatformURL     = os.environ.get('corePlatformURL','http://localhost:8080') \n",
    "dataLakePlatformURL = os.environ.get('dataLakePlatformURL','http://localhost:8081') \n",
    "devPlatformURL      = os.environ.get('devPlatformURL','http://localhost:8082')"
   ]
  },
  {
   "cell_type": "markdown",
   "metadata": {},
   "source": [
    "Callie is using the research team's metadata server called `cocoMDS3`. This server is hosted on the Core OMAG Server Platform."
   ]
  },
  {
   "cell_type": "code",
   "execution_count": null,
   "metadata": {},
   "outputs": [],
   "source": [
    "server            = \"cocoMDS3\"\n",
    "serverPlatformURL = corePlatformURL"
   ]
  },
  {
   "cell_type": "markdown",
   "metadata": {},
   "source": [
    "The following request checks that this server is running."
   ]
  },
  {
   "cell_type": "code",
   "execution_count": null,
   "metadata": {},
   "outputs": [],
   "source": [
    "import requests\n",
    "import pprint\n",
    "import json\n",
    "\n",
    "adminUserId = \"garygeeke\"\n",
    "\n",
    "isServerActiveURL = serverPlatformURL + \"/open-metadata/platform-services/users/\" + adminUserId + \"/server-platform/servers/\" + server + \"/status\"\n",
    "\n",
    "print (\" \")\n",
    "print (\"GET \" + isServerActiveURL)\n",
    "print (\" \")\n",
    "\n",
    "response = requests.get(isServerActiveURL)\n",
    "\n",
    "print (\"Returns:\")\n",
    "prettyResponse = json.dumps(response.json(), indent=4)\n",
    "print (prettyResponse)\n",
    "print (\" \")\n",
    "\n",
    "serverStatus = response.json().get('active')\n",
    "if serverStatus == True:\n",
    "    print(\"Server \" + server + \" is active - ready to begin\")\n",
    "else:\n",
    "    print(\"Server \" + server + \" is down - start it before proceeding\")\n"
   ]
  },
  {
   "cell_type": "markdown",
   "metadata": {},
   "source": [
    "----\n",
    "The next set of code sets up the asset - it is subject to change."
   ]
  },
  {
   "cell_type": "code",
   "execution_count": null,
   "metadata": {},
   "outputs": [],
   "source": [
    "assetOwnerURL = serverPlatformURL + '/servers/' + server + '/open-metadata/access-services/asset-owner/users/' + calliesUserId \n",
    "createAssetURL = assetOwnerURL + '/assets/csv-files'\n",
    "print (createAssetURL)\n",
    "\n",
    "jsonHeader = {'content-type':'application/json'}\n",
    "body = {\n",
    "\t\"class\" : \"NewFileAssetRequestBody\",\n",
    "\t\"displayName\" : \"CoCo Pharmaceuticals Employee Records\",\n",
    "\t\"description\" : \"Detailed Employee Records.\",\n",
    "\t\"fullPath\" : \"file://secured/hr/Employees.avro\"\n",
    "}\n",
    "\n",
    "response=requests.post(createAssetURL, json=body, headers=jsonHeader)\n",
    "\n",
    "response.json()"
   ]
  },
  {
   "cell_type": "code",
   "execution_count": null,
   "metadata": {},
   "outputs": [],
   "source": [
    "getAssetsURL = serverAssetOwnerURL + '/assets/by-name?startFrom=0&pageSize=50'\n",
    "searchString=\"*Patient*\"\n",
    "\n",
    "print (\" \")\n",
    "print (\"GET \" + getAssetsURL)\n",
    "print (\"{ \" + searchString + \" }\")\n",
    "print (\" \")\n",
    "\n",
    "response=requests.post(getAssetsURL, data=searchString)\n",
    "\n",
    "print (\"Returns:\")\n",
    "prettyResponse = json.dumps(response.json(), indent=4)\n",
    "print (prettyResponse)\n",
    "print (\" \")\n",
    "\n",
    "if response.json().get('assets'):\n",
    "    if len(response.json().get('assets')) == 1:\n",
    "        print (\"1 asset found\")\n",
    "    else:\n",
    "        print (str(len(response.json().get('assets'))) + \" assets found\")\n",
    "else:\n",
    "    print (\"No assets found\")"
   ]
  },
  {
   "cell_type": "code",
   "execution_count": null,
   "metadata": {},
   "outputs": [],
   "source": []
  }
 ],
 "metadata": {
  "kernelspec": {
   "display_name": "Python 3",
   "language": "python",
   "name": "python3"
  },
  "language_info": {
   "codemirror_mode": {
    "name": "ipython",
    "version": 3
   },
   "file_extension": ".py",
   "mimetype": "text/x-python",
   "name": "python",
   "nbconvert_exporter": "python",
   "pygments_lexer": "ipython3",
   "version": "3.7.4"
  }
 },
 "nbformat": 4,
 "nbformat_minor": 2
}
