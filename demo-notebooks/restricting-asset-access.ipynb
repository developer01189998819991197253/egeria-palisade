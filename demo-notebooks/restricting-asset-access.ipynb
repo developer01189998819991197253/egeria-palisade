{
 "cells": [
  {
   "cell_type": "markdown",
   "metadata": {},
   "source": [
    "![Egeria Logo](https://raw.githubusercontent.com/odpi/egeria/master/assets/img/ODPi_Egeria_Logo_color.png)\n",
    "\n",
    "### ODPi Egeria Hands-On Lab\n",
    "# Welcome to the Understanding Methods for Restricting Asset Access Lab"
   ]
  },
  {
   "cell_type": "markdown",
   "metadata": {},
   "source": [
    "## Introduction\n",
    "\n",
    "ODPi Egeria is an open source project that provides open standards and implementation libraries to connect tools, catalogues and platforms together so they can share information about data and technology (called metadata).\n",
    "\n",
    "In this hands-on lab you will get a chance to explore the importance of applying data redaction where Metadata assets have restricted access using Palisade with Egeria\n",
    "\n",
    "There are three methods we will go through to view the effects on data access, these are using:\n",
    "\n",
    "\n",
    "- Simple Access Control : Access Control List (ACL)\n",
    "- Policy Based Access : Glossary Based Policy Control(GBPC)\n",
    "- Context Sensitive Access : Palisade (Scalable Data Access Policy Management and Enforcement : https://github.com/gchq/Palisade)\n",
    "\n",
    "The three methods highlight the different ways data access and redaction can be performed.  With all three methods the user Callie is accessing the same assets, with each method above the access control becomes increasingly more fine grained:\n",
    "\n",
    "- **ACL**, users to have access to a file or not and redaction is not possible, further more if the file is coppied and the copy does not have appropriate file access controls applied to it then the data is not protected.  With the scenario Callie would be able to see all data.\n",
    "\n",
    "With the next two options it should be noted that the data if in a data lake and access is virtulised you can apply an enforcement point between the user and the data.  This allow the organisation to use policy based access control which are the two options below. \n",
    "\n",
    "- **GBPC**, Here Glossary based policies are utilised to control access as used in Apache Ranger.  This enables access security to be applied to file with redaction of certain elements this is profiled against the individual users identity, so Callie may be able to see more/less that her co-workers, however, two data sets are required so different redactions can be applied.  \n",
    "- **Contect Sensitive Access**, enables Callie access to dynamically change based on the context of her work. Meaning there is NO duplication of data as the access is modified when she changes between project and data requests.  To perform this with Egeria we have configure this demonstration to use Palisade.\n"
   ]
  },
  {
   "cell_type": "markdown",
   "metadata": {},
   "source": [
    "## The scenario\n",
    "\n",
    "Callie Quartile is a data scientist at Coco Pharmaceuticals. She is responsible for analysing data for HR and the Clinical Trials team. \n",
    "\n",
    "Callie has been asked to provide analytics for two different projects:\n",
    "\n",
    "- a staff salary review that identifies any pay biases\n",
    "- identify staff elligble for a 5 year anniversay health screening project\n",
    "\n",
    "The data that Callie will access contains sensitive and personal data which she is not authorised to view, such as Salary, Data of Birth, Employee Name and so on.  In this notebook you will learn how to redact data elements, so Callie can only view the data that is essential to each project in a way which does not violate her level of data access.\n",
    "\n",
    "There are many situations where data needs to be redacted for different members of staff, based on their role, access, security clearance and so on.  In the first report it is inappropriate for Callie to view her colleagues salary details along with their names, employee number or other items which identify them.  If certain details are redacted then Callie may see the salaries with no knowledge of who the data pertains to.  In the analytics she provides for the Marketing team Callie will see a different set of data which is redacted based on a different set of rules based on context.\n",
    "\n",
    "\n",
    "![Callie Quartile](https://raw.githubusercontent.com/odpi/data-governance/master/docs/coco-pharmaceuticals/personas/callie-quartile.png)\n",
    "\n",
    "Callie's userId is `calliequartile`."
   ]
  },
  {
   "cell_type": "code",
   "execution_count": 4,
   "metadata": {},
   "outputs": [],
   "source": [
    "calliesUserId = \"calliequartile\""
   ]
  },
  {
   "cell_type": "markdown",
   "metadata": {},
   "source": [
    "The two projects (HR and Marketing) used overlapping data.  Which dependant on the analytics and research that Callie is performing require that different elements of data are redacted.\n",
    "\n",
    "**HR Sallary Bias Review Project Data** \n",
    "The data access for this project requires consist of employee records each with a number of fields. Certain fields contain PII information and require special privaliges to be accessed.  To perform the Analytics and research, Callie needs to access PII data such as Salary, Gender, Nationality, Work Location and so on. If the fields that identify the individual are redacted then Callie can perform the Analytics and Research.\n",
    "\n",
    "**HR Health Screening Project Data**\n",
    "In this instance Callie is still restricted from seeing elements of her collegues PII data, however, these are different items from the previous analysis she performed.  In this instace she will have access to employee, name, id, age, length of service and address; Access to financial infoamtion in this instance is restricted."
   ]
  },
  {
   "cell_type": "markdown",
   "metadata": {},
   "source": [
    "# Setting up\n",
    "\n",
    "Coco Pharmaceuticals make widespread use of ODPi Egeria for tracking and managing their data and related assets.\n",
    "Figure 1 below shows the metadata servers and the platforms that are hosting them.\n",
    "\n",
    "![Figure 1](../images/coco-pharmaceuticals-systems-omag-server-platforms.png)\n",
    "> **Figure 1:** Coco Pharmaceuticals' OMAG Server Platforms"
   ]
  },
  {
   "cell_type": "code",
   "execution_count": 3,
   "metadata": {},
   "outputs": [],
   "source": [
    "import os\n",
    "\n",
    "corePlatformURL     = os.environ.get('corePlatformURL','http://localhost:8080') \n",
    "dataLakePlatformURL = os.environ.get('dataLakePlatformURL','http://localhost:8081') \n",
    "devPlatformURL      = os.environ.get('devPlatformURL','http://localhost:8082')"
   ]
  },
  {
   "cell_type": "markdown",
   "metadata": {},
   "source": [
    "Callie is using the research team's metadata server called `cocoMDS3`. This server is hosted on the Core OMAG Server Platform."
   ]
  },
  {
   "cell_type": "code",
   "execution_count": null,
   "metadata": {},
   "outputs": [],
   "source": [
    "server            = \"cocoMDS3\"\n",
    "serverPlatformURL = corePlatformURL"
   ]
  },
  {
   "cell_type": "markdown",
   "metadata": {},
   "source": [
    "The following request checks that this server is running."
   ]
  },
  {
   "cell_type": "code",
   "execution_count": null,
   "metadata": {},
   "outputs": [],
   "source": [
    "import requests\n",
    "import pprint\n",
    "import json\n",
    "\n",
    "adminUserId = \"garygeeke\"\n",
    "\n",
    "isServerActiveURL = serverPlatformURL + \"/open-metadata/platform-services/users/\" + adminUserId + \"/server-platform/servers/\" + server + \"/status\"\n",
    "\n",
    "print (\" \")\n",
    "print (\"GET \" + isServerActiveURL)\n",
    "print (\" \")\n",
    "\n",
    "response = requests.get(isServerActiveURL)\n",
    "\n",
    "print (\"Returns:\")\n",
    "prettyResponse = json.dumps(response.json(), indent=4)\n",
    "print (prettyResponse)\n",
    "print (\" \")\n",
    "\n",
    "serverStatus = response.json().get('active')\n",
    "if serverStatus == True:\n",
    "    print(\"Server \" + server + \" is active - ready to begin\")\n",
    "else:\n",
    "    print(\"Server \" + server + \" is down - start it before proceeding\")\n"
   ]
  },
  {
   "cell_type": "markdown",
   "metadata": {},
   "source": [
    "----\n",
    "The next set of code sets up the asset - it is subject to change."
   ]
  },
  {
   "cell_type": "code",
   "execution_count": null,
   "metadata": {},
   "outputs": [],
   "source": [
    "assetOwnerURL = serverPlatformURL + '/servers/' + server + '/open-metadata/access-services/asset-owner/users/' + calliesUserId \n",
    "createAssetURL = assetOwnerURL + '/assets/csv-files'\n",
    "print (createAssetURL)\n",
    "\n",
    "jsonHeader = {'content-type':'application/json'}\n",
    "body = {\n",
    "\t\"class\" : \"NewFileAssetRequestBody\",\n",
    "\t\"displayName\" : \"Drop Foot Clinical Trial Patients\",\n",
    "\t\"description\" : \"List of patients registered for the drop foot clinical trial.\",\n",
    "\t\"fullPath\" : \"file://secured/research/clinical-trials/drop-foot/Patients.csv\"\n",
    "}\n",
    "\n",
    "response=requests.post(createAssetURL, json=body, headers=jsonHeader)\n",
    "\n",
    "response.json()"
   ]
  },
  {
   "cell_type": "code",
   "execution_count": null,
   "metadata": {},
   "outputs": [],
   "source": [
    "getAssetsURL = serverAssetOwnerURL + '/assets/by-name?startFrom=0&pageSize=50'\n",
    "searchString=\"*Patient*\"\n",
    "\n",
    "print (\" \")\n",
    "print (\"GET \" + getAssetsURL)\n",
    "print (\"{ \" + searchString + \" }\")\n",
    "print (\" \")\n",
    "\n",
    "response=requests.post(getAssetsURL, data=searchString)\n",
    "\n",
    "print (\"Returns:\")\n",
    "prettyResponse = json.dumps(response.json(), indent=4)\n",
    "print (prettyResponse)\n",
    "print (\" \")\n",
    "\n",
    "if response.json().get('assets'):\n",
    "    if len(response.json().get('assets')) == 1:\n",
    "        print (\"1 asset found\")\n",
    "    else:\n",
    "        print (str(len(response.json().get('assets'))) + \" assets found\")\n",
    "else:\n",
    "    print (\"No assets found\")"
   ]
  },
  {
   "cell_type": "code",
   "execution_count": null,
   "metadata": {},
   "outputs": [],
   "source": []
  }
 ],
 "metadata": {
  "kernelspec": {
   "display_name": "Python 3",
   "language": "python",
   "name": "python3"
  },
  "language_info": {
   "codemirror_mode": {
    "name": "ipython",
    "version": 3
   },
   "file_extension": ".py",
   "mimetype": "text/x-python",
   "name": "python",
   "nbconvert_exporter": "python",
   "pygments_lexer": "ipython3",
   "version": "3.7.4"
  }
 },
 "nbformat": 4,
 "nbformat_minor": 2
}
